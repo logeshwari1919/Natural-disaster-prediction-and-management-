{
  "nbformat": 4,
  "nbformat_minor": 0,
  "metadata": {
    "colab": {
      "provenance": [],
      "authorship_tag": "ABX9TyNpcmYLEgwqQRYA1XQ7eEsq",
      "include_colab_link": true
    },
    "kernelspec": {
      "name": "python3",
      "display_name": "Python 3"
    },
    "language_info": {
      "name": "python"
    }
  },
  "cells": [
    {
      "cell_type": "markdown",
      "metadata": {
        "id": "view-in-github",
        "colab_type": "text"
      },
      "source": [
        "<a href=\"https://colab.research.google.com/github/logeshwari1919/Natural-disaster-prediction-and-management-/blob/main/Natural_disaster_prediction_and_management.ipynb\" target=\"_parent\"><img src=\"https://colab.research.google.com/assets/colab-badge.svg\" alt=\"Open In Colab\"/></a>"
      ]
    },
    {
      "cell_type": "code",
      "execution_count": null,
      "metadata": {
        "id": "AW-ltLJOsN9S"
      },
      "outputs": [],
      "source": [
        "\n",
        "import random\n",
        "import time\n",
        "\n",
        "# Disaster data simulation\n",
        "disaster_types = ['Earthquake', 'Flood', 'Cyclone', 'Tsunami', 'Wildfire']\n",
        "disaster_zones = ['Zone A', 'Zone B', 'Zone C', 'Zone D']\n",
        "\n",
        "# Function to simulate disaster prediction\n",
        "def predict_disaster():\n",
        "    print(\"Running disaster prediction algorithm...\\n\")\n",
        "    time.sleep(2)\n",
        "    disaster = random.choice(disaster_types)\n",
        "    zone = random.choice(disaster_zones)\n",
        "    severity = random.randint(1, 10)\n",
        "    print(f\"Predicted Disaster: {disaster}\")\n",
        "    print(f\"Affected Zone: {zone}\")\n",
        "    print(f\"Severity Level: {severity}/10\")\n",
        "\n",
        "    if severity >= 7:\n",
        "        alert_disaster(disaster, zone, severity)\n",
        "    else:\n",
        "        print(\"Status: Monitoring situation.\\n\")\n",
        "\n",
        "# Function to send disaster alerts\n",
        "def alert_disaster(disaster, zone, severity):\n",
        "    print(\"\\n** ALERT **\")\n",
        "    print(f\"{disaster} predicted in {zone} with severity {severity}/10\")\n",
        "    print(\"Immediate action recommended!\")\n",
        "    print(\"Sending alerts to local authorities and public...\\n\")\n",
        "\n",
        "# Function to manage disaster response\n",
        "def manage_response():\n",
        "    print(\"Select Response Action:\")\n",
        "    print(\"1. Ev"
      ]
    }
  ]
}